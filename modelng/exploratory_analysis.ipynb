{
 "cells": [
  {
   "cell_type": "code",
   "execution_count": null,
   "metadata": {},
   "outputs": [],
   "source": [
    "from dask.distributed import Client"
   ]
  },
  {
   "cell_type": "code",
   "execution_count": null,
   "metadata": {},
   "outputs": [],
   "source": [
    "#$ dask-scheduler\n",
    "\n",
    "#$ dask-worker 127.0.0.1:8786\n",
    "#$ dask-worker 127.0.0.1:8786\n",
    "#$ dask-worker 127.0.0.1:8786\n",
    "\n",
    "\n",
    "client = Client() # '127.0.0.1:8786'\n",
    "client"
   ]
  },
  {
   "cell_type": "code",
   "execution_count": null,
   "metadata": {},
   "outputs": [],
   "source": [
    "from dask import dataframe as dd"
   ]
  },
  {
   "cell_type": "code",
   "execution_count": 1,
   "metadata": {},
   "outputs": [],
   "source": [
    "import pandas\n",
    "import glob"
   ]
  },
  {
   "cell_type": "code",
   "execution_count": 115,
   "metadata": {},
   "outputs": [],
   "source": [
    "from matplotlib import pyplot\n",
    "import seaborn as sns\n",
    "%matplotlib inline"
   ]
  },
  {
   "cell_type": "markdown",
   "metadata": {},
   "source": [
    "# HalfHourly"
   ]
  },
  {
   "cell_type": "markdown",
   "metadata": {},
   "source": [
    "### Get Data"
   ]
  },
  {
   "cell_type": "code",
   "execution_count": null,
   "metadata": {
    "scrolled": false
   },
   "outputs": [],
   "source": [
    "fpath = '../data/cleaned/halfhourly_dataset/block_*.csv'\n",
    "# fpath = '../data/cleaned/halfhourly_dataset/block_0.csv'\n",
    "\n",
    "#'tstp': 'parse_dates', # 'M8[us]',  # pandas.Timestamp, \n",
    "\n",
    "# TODO: ???\n",
    "id_key = 'LCLid'\n",
    "usage_key = 'energy(kWh/hh)'\n",
    "date_key = 'tstp'\n",
    "\n",
    "# Schema     \n",
    "schema = {\n",
    "    'LCLid': 'category',\n",
    "    'energy(kWh/hh)': 'float64',\n",
    "}\n",
    "date_cols = ['tstp']\n",
    "\n",
    "usage_data = dd.read_csv(fpath, dtype=schema, parse_dates=date_cols)\n",
    "\n",
    "usage_data.head()"
   ]
  },
  {
   "cell_type": "code",
   "execution_count": null,
   "metadata": {
    "scrolled": false
   },
   "outputs": [],
   "source": [
    "if not usage_data[id_key].cat.known:  # Compute the MACs\n",
    "    usage_data[id_key] = usage_data[id_key].cat.as_known()\n",
    "    \n",
    "usage_data[id_key].cat.categories"
   ]
  },
  {
   "cell_type": "markdown",
   "metadata": {},
   "source": [
    "### Set index depending on operations"
   ]
  },
  {
   "cell_type": "code",
   "execution_count": null,
   "metadata": {
    "scrolled": false
   },
   "outputs": [],
   "source": [
    "# usage_data.set_index('LCLid')\n",
    "usage_data.set_index(date_key)"
   ]
  },
  {
   "cell_type": "markdown",
   "metadata": {},
   "source": [
    "### Save to Parquet"
   ]
  },
  {
   "cell_type": "code",
   "execution_count": null,
   "metadata": {},
   "outputs": [],
   "source": [
    "test_out = '../data/parquet/halfhourly_dataset'\n",
    "usage_data.to_parquet(test_out, engine='pyarrow')\n",
    "\n"
   ]
  },
  {
   "cell_type": "markdown",
   "metadata": {},
   "source": [
    "### Smoke test Dask"
   ]
  },
  {
   "cell_type": "code",
   "execution_count": null,
   "metadata": {
    "scrolled": true
   },
   "outputs": [],
   "source": [
    "usage_data.describe().compute()"
   ]
  },
  {
   "cell_type": "markdown",
   "metadata": {},
   "source": [
    "### Split MACIDs"
   ]
  },
  {
   "cell_type": "code",
   "execution_count": null,
   "metadata": {},
   "outputs": [],
   "source": [
    "# usage_data['LCLid'] = usage_data['LCLid'].astype('category')"
   ]
  },
  {
   "cell_type": "code",
   "execution_count": null,
   "metadata": {},
   "outputs": [],
   "source": [
    "usage_data[usage_data[id_key] == 'MAC000002'].describe().compute()"
   ]
  },
  {
   "cell_type": "code",
   "execution_count": null,
   "metadata": {
    "scrolled": false
   },
   "outputs": [],
   "source": [
    "usage_data[usage_data[id_key] == 'MAC000246'].describe().compute()"
   ]
  },
  {
   "cell_type": "code",
   "execution_count": null,
   "metadata": {},
   "outputs": [],
   "source": [
    "usage_data[usage_key].mean().compute()"
   ]
  },
  {
   "cell_type": "code",
   "execution_count": null,
   "metadata": {},
   "outputs": [],
   "source": [
    "usage_means = usage_data.groupby(id_key)[usage_key].mean().compute()"
   ]
  },
  {
   "cell_type": "code",
   "execution_count": null,
   "metadata": {},
   "outputs": [],
   "source": [
    "usage_means.hist()"
   ]
  },
  {
   "cell_type": "code",
   "execution_count": null,
   "metadata": {},
   "outputs": [],
   "source": [
    "usage_means[usage_means < 1.2].hist()"
   ]
  },
  {
   "cell_type": "code",
   "execution_count": null,
   "metadata": {},
   "outputs": [],
   "source": [
    "usage_means[usage_means < 0.8].hist()"
   ]
  },
  {
   "cell_type": "markdown",
   "metadata": {},
   "source": [
    "^ looks about like a right-skew hist"
   ]
  },
  {
   "cell_type": "code",
   "execution_count": null,
   "metadata": {},
   "outputs": [],
   "source": [
    "test_ids = ['MAC000246', 'MAC000002']"
   ]
  },
  {
   "cell_type": "code",
   "execution_count": null,
   "metadata": {},
   "outputs": [],
   "source": [
    "# usage_data[usage_data[id_key] in test_ids].describe().compute()\n",
    "individual_usage = usage_data[usage_data[id_key] == 'MAC000246'].compute()"
   ]
  },
  {
   "cell_type": "code",
   "execution_count": null,
   "metadata": {},
   "outputs": [],
   "source": [
    "individual_usage['tmp_index'] = individual_usage.index\n",
    "individual_usage.head()"
   ]
  },
  {
   "cell_type": "code",
   "execution_count": null,
   "metadata": {},
   "outputs": [],
   "source": [
    "sns.relplot(x='tstp', #x='tmp_index',\n",
    "            y='energy(kWh/hh)',\n",
    "#             col='LCLid',\n",
    "            kind=\"line\",\n",
    "            legend=\"full\",\n",
    "            data=individual_usage)\n",
    "\n"
   ]
  },
  {
   "cell_type": "code",
   "execution_count": null,
   "metadata": {},
   "outputs": [],
   "source": []
  },
  {
   "cell_type": "code",
   "execution_count": null,
   "metadata": {},
   "outputs": [],
   "source": []
  },
  {
   "cell_type": "code",
   "execution_count": null,
   "metadata": {},
   "outputs": [],
   "source": []
  },
  {
   "cell_type": "code",
   "execution_count": null,
   "metadata": {},
   "outputs": [],
   "source": []
  },
  {
   "cell_type": "code",
   "execution_count": null,
   "metadata": {},
   "outputs": [],
   "source": [
    "import glob\n",
    "\n",
    "\n",
    "fpath = '../data/cleaned/halfhourly_dataset'\n",
    "all_files = glob.glob(fpath + \"/block_*.csv\")\n",
    "\n",
    "\n",
    "# Schema     \n",
    "schema = {\n",
    "    'LCLid': 'category',\n",
    "    'energy(kWh/hh)': 'float64',\n",
    "}\n",
    "date_cols = ['tstp']\n",
    "\n",
    "#usage_data = dd.read_csv(fpath, dtype=schema, parse_dates=date_cols)\n",
    "\n",
    "\n",
    "\n",
    "li = []\n",
    "for filename in all_files:\n",
    "    df = pandas.read_csv(filename, dtype=schema, parse_dates=date_cols)\n",
    "    li.append(df)\n",
    "\n",
    "usage_data = pandas.concat(li, axis=0, ignore_index=True)\n",
    "\n",
    "usage_means = usage_data.groupby('LCLid')['energy(kWh/hh)'].mean()\n",
    "usage_means[10]"
   ]
  },
  {
   "cell_type": "code",
   "execution_count": null,
   "metadata": {},
   "outputs": [],
   "source": [
    "# if not usage_data['LCLid'].cat.known:  # Compute the MACs\n",
    "#     usage_data['LCLid'] = usage_data['LCLid'].cat.as_known()\n",
    "    \n",
    "# usage_data['LCLid'].cat.categories"
   ]
  },
  {
   "cell_type": "code",
   "execution_count": null,
   "metadata": {},
   "outputs": [],
   "source": [
    "### Set index depending on operations\n",
    "\n",
    "# usage_data.set_index('LCLid')\n",
    "usage_data.set_index('tstp')"
   ]
  },
  {
   "cell_type": "code",
   "execution_count": null,
   "metadata": {},
   "outputs": [],
   "source": [
    "usage_data[usage_data['LCLid'] == 'MAC000002'].describe()"
   ]
  },
  {
   "cell_type": "code",
   "execution_count": null,
   "metadata": {},
   "outputs": [],
   "source": [
    "usage_means = usage_data.groupby('LCLid')['energy(kWh/hh)'].mean()"
   ]
  },
  {
   "cell_type": "code",
   "execution_count": null,
   "metadata": {},
   "outputs": [],
   "source": [
    "usage_means.hist()"
   ]
  },
  {
   "cell_type": "code",
   "execution_count": null,
   "metadata": {},
   "outputs": [],
   "source": [
    "usage_means[usage_means < 1.2].hist()"
   ]
  },
  {
   "cell_type": "code",
   "execution_count": null,
   "metadata": {},
   "outputs": [],
   "source": [
    "usage_means[usage_means < 0.8].hist()"
   ]
  },
  {
   "cell_type": "markdown",
   "metadata": {},
   "source": [
    "^ looks about like a right-skew hist"
   ]
  },
  {
   "cell_type": "code",
   "execution_count": null,
   "metadata": {},
   "outputs": [],
   "source": [
    "test_ids = ['MAC000246', 'MAC000002']\n",
    "\n",
    "# usage_data[usage_data[id_key] in test_ids].describe().compute()\n",
    "individual_usage = usage_data[usage_data['LCLid'] == 'MAC000246']\n"
   ]
  },
  {
   "cell_type": "code",
   "execution_count": null,
   "metadata": {},
   "outputs": [],
   "source": [
    "sns.relplot(x='tstp', #x='tmp_index',\n",
    "            y='energy(kWh/hh)',\n",
    "#             col='LCLid',\n",
    "            kind=\"line\",\n",
    "            legend=\"full\",\n",
    "            data=individual_usage)"
   ]
  },
  {
   "cell_type": "code",
   "execution_count": null,
   "metadata": {},
   "outputs": [],
   "source": []
  },
  {
   "cell_type": "code",
   "execution_count": null,
   "metadata": {},
   "outputs": [],
   "source": []
  },
  {
   "cell_type": "code",
   "execution_count": null,
   "metadata": {},
   "outputs": [],
   "source": []
  },
  {
   "cell_type": "code",
   "execution_count": null,
   "metadata": {},
   "outputs": [],
   "source": []
  },
  {
   "cell_type": "code",
   "execution_count": null,
   "metadata": {},
   "outputs": [],
   "source": []
  },
  {
   "cell_type": "code",
   "execution_count": null,
   "metadata": {},
   "outputs": [],
   "source": []
  },
  {
   "cell_type": "code",
   "execution_count": null,
   "metadata": {},
   "outputs": [],
   "source": []
  },
  {
   "cell_type": "code",
   "execution_count": null,
   "metadata": {},
   "outputs": [],
   "source": []
  },
  {
   "cell_type": "markdown",
   "metadata": {},
   "source": [
    "# Daily"
   ]
  },
  {
   "cell_type": "markdown",
   "metadata": {},
   "source": [
    "### Get Data"
   ]
  },
  {
   "cell_type": "code",
   "execution_count": 32,
   "metadata": {},
   "outputs": [],
   "source": [
    "#fpath_glob = '../data/cleaned/daily_dataset/block_*.csv'\n",
    "fpath_glob = '../data/cleaned/daily_dataset/block_0.csv'\n",
    "\n",
    "# Schema     \n",
    "schema = {\n",
    "    'LCLid': 'category',\n",
    "    'energy_median': 'float64',\n",
    "    'energy_mean': 'float64',\n",
    "    'energy_max': 'float64',\n",
    "    'energy_count': 'int32',\n",
    "    'energy_std': 'float64',\n",
    "    'energy_sum': 'float64',\n",
    "    'energy_min': 'float64',\n",
    "    'energy(kWh/hh)': 'float64',\n",
    "    \n",
    "}\n",
    "\n",
    "date_cols = ['day']"
   ]
  },
  {
   "cell_type": "code",
   "execution_count": 34,
   "metadata": {},
   "outputs": [
    {
     "data": {
      "text/html": [
       "<div>\n",
       "<style scoped>\n",
       "    .dataframe tbody tr th:only-of-type {\n",
       "        vertical-align: middle;\n",
       "    }\n",
       "\n",
       "    .dataframe tbody tr th {\n",
       "        vertical-align: top;\n",
       "    }\n",
       "\n",
       "    .dataframe thead th {\n",
       "        text-align: right;\n",
       "    }\n",
       "</style>\n",
       "<table border=\"1\" class=\"dataframe\">\n",
       "  <thead>\n",
       "    <tr style=\"text-align: right;\">\n",
       "      <th></th>\n",
       "      <th>LCLid</th>\n",
       "      <th>day</th>\n",
       "      <th>energy_median</th>\n",
       "      <th>energy_mean</th>\n",
       "      <th>energy_max</th>\n",
       "      <th>energy_count</th>\n",
       "      <th>energy_std</th>\n",
       "      <th>energy_sum</th>\n",
       "      <th>energy_min</th>\n",
       "    </tr>\n",
       "  </thead>\n",
       "  <tbody>\n",
       "    <tr>\n",
       "      <th>0</th>\n",
       "      <td>MAC000002</td>\n",
       "      <td>2012-10-12</td>\n",
       "      <td>0.1385</td>\n",
       "      <td>0.154304</td>\n",
       "      <td>0.886</td>\n",
       "      <td>46</td>\n",
       "      <td>0.196034</td>\n",
       "      <td>7.098</td>\n",
       "      <td>0.000</td>\n",
       "    </tr>\n",
       "    <tr>\n",
       "      <th>1</th>\n",
       "      <td>MAC000002</td>\n",
       "      <td>2012-10-13</td>\n",
       "      <td>0.1800</td>\n",
       "      <td>0.230979</td>\n",
       "      <td>0.933</td>\n",
       "      <td>48</td>\n",
       "      <td>0.192329</td>\n",
       "      <td>11.087</td>\n",
       "      <td>0.076</td>\n",
       "    </tr>\n",
       "    <tr>\n",
       "      <th>2</th>\n",
       "      <td>MAC000002</td>\n",
       "      <td>2012-10-14</td>\n",
       "      <td>0.1580</td>\n",
       "      <td>0.275479</td>\n",
       "      <td>1.085</td>\n",
       "      <td>48</td>\n",
       "      <td>0.274647</td>\n",
       "      <td>13.223</td>\n",
       "      <td>0.070</td>\n",
       "    </tr>\n",
       "    <tr>\n",
       "      <th>3</th>\n",
       "      <td>MAC000002</td>\n",
       "      <td>2012-10-15</td>\n",
       "      <td>0.1310</td>\n",
       "      <td>0.213688</td>\n",
       "      <td>1.164</td>\n",
       "      <td>48</td>\n",
       "      <td>0.224483</td>\n",
       "      <td>10.257</td>\n",
       "      <td>0.070</td>\n",
       "    </tr>\n",
       "    <tr>\n",
       "      <th>4</th>\n",
       "      <td>MAC000002</td>\n",
       "      <td>2012-10-16</td>\n",
       "      <td>0.1450</td>\n",
       "      <td>0.203521</td>\n",
       "      <td>0.991</td>\n",
       "      <td>48</td>\n",
       "      <td>0.184115</td>\n",
       "      <td>9.769</td>\n",
       "      <td>0.087</td>\n",
       "    </tr>\n",
       "  </tbody>\n",
       "</table>\n",
       "</div>"
      ],
      "text/plain": [
       "       LCLid        day  energy_median  energy_mean  energy_max  energy_count  \\\n",
       "0  MAC000002 2012-10-12         0.1385     0.154304       0.886            46   \n",
       "1  MAC000002 2012-10-13         0.1800     0.230979       0.933            48   \n",
       "2  MAC000002 2012-10-14         0.1580     0.275479       1.085            48   \n",
       "3  MAC000002 2012-10-15         0.1310     0.213688       1.164            48   \n",
       "4  MAC000002 2012-10-16         0.1450     0.203521       0.991            48   \n",
       "\n",
       "   energy_std  energy_sum  energy_min  \n",
       "0    0.196034       7.098       0.000  \n",
       "1    0.192329      11.087       0.076  \n",
       "2    0.274647      13.223       0.070  \n",
       "3    0.224483      10.257       0.070  \n",
       "4    0.184115       9.769       0.087  "
      ]
     },
     "execution_count": 34,
     "metadata": {},
     "output_type": "execute_result"
    }
   ],
   "source": [
    "# # Read in Dask\n",
    "# agg_usage_data = dd.read_csv(fpath_glob, dtype=schema, parse_dates=date_cols)\n",
    "\n",
    "# Read in Pandas\n",
    "file_list = glob.glob(fpath_glob)\n",
    "\n",
    "frames = []\n",
    "for filename in file_list:\n",
    "    df = pandas.read_csv(filename, dtype=schema, parse_dates=date_cols)\n",
    "    frames.append(df)\n",
    "\n",
    "agg_usage_data = pandas.concat(frames, axis=0, ignore_index=True)\n",
    "\n",
    "# Setup\n",
    "agg_usage_data.set_index('day')\n",
    "agg_usage_data.head()"
   ]
  },
  {
   "cell_type": "code",
   "execution_count": 35,
   "metadata": {},
   "outputs": [
    {
     "data": {
      "text/plain": [
       "LCLid\n",
       "MAC000002     12.070638\n",
       "MAC000246     16.816769\n",
       "MAC000450     72.267393\n",
       "MAC001074     23.021159\n",
       "MAC003223     19.154083\n",
       "MAC003239      7.568414\n",
       "MAC003252     12.773310\n",
       "MAC003281      9.366736\n",
       "MAC003305     15.741560\n",
       "MAC003348     11.732656\n",
       "MAC003388     28.847566\n",
       "MAC003394     27.218389\n",
       "MAC003400     12.187364\n",
       "MAC003422     18.465947\n",
       "MAC003423     17.872087\n",
       "MAC003428     26.144729\n",
       "MAC003449     48.955359\n",
       "MAC003463     15.492099\n",
       "MAC003482     13.142364\n",
       "MAC003553     17.267682\n",
       "MAC003557      9.981382\n",
       "MAC003566     29.049535\n",
       "MAC003579     10.950002\n",
       "MAC003597     28.677199\n",
       "MAC003613     33.051958\n",
       "MAC003646     10.648527\n",
       "MAC003656     17.684838\n",
       "MAC003668     36.932719\n",
       "MAC003680     16.968186\n",
       "MAC003686     16.228549\n",
       "MAC003718      9.988258\n",
       "MAC003719     13.640376\n",
       "MAC003737     10.082427\n",
       "MAC003740     10.288597\n",
       "MAC003775     29.732668\n",
       "MAC003805     12.731640\n",
       "MAC003817     21.908172\n",
       "MAC003826     10.594512\n",
       "MAC003844     14.574300\n",
       "MAC003851     13.436961\n",
       "MAC003856     34.223923\n",
       "MAC003863     13.913972\n",
       "MAC003874     11.090240\n",
       "MAC004034     11.180170\n",
       "MAC004179    101.115022\n",
       "MAC004247     21.626039\n",
       "MAC004319     48.859843\n",
       "MAC004387      4.301548\n",
       "MAC004431     21.433634\n",
       "MAC005492      7.489430\n",
       "Name: energy_sum, dtype: float64"
      ]
     },
     "execution_count": 35,
     "metadata": {},
     "output_type": "execute_result"
    }
   ],
   "source": [
    "usage_means = agg_usage_data.groupby('LCLid')['energy_sum'].mean()\n",
    "usage_means"
   ]
  },
  {
   "cell_type": "code",
   "execution_count": 36,
   "metadata": {},
   "outputs": [],
   "source": [
    "### Pick out some individuals just to see"
   ]
  },
  {
   "cell_type": "code",
   "execution_count": 37,
   "metadata": {},
   "outputs": [
    {
     "data": {
      "text/html": [
       "<div>\n",
       "<style scoped>\n",
       "    .dataframe tbody tr th:only-of-type {\n",
       "        vertical-align: middle;\n",
       "    }\n",
       "\n",
       "    .dataframe tbody tr th {\n",
       "        vertical-align: top;\n",
       "    }\n",
       "\n",
       "    .dataframe thead th {\n",
       "        text-align: right;\n",
       "    }\n",
       "</style>\n",
       "<table border=\"1\" class=\"dataframe\">\n",
       "  <thead>\n",
       "    <tr style=\"text-align: right;\">\n",
       "      <th></th>\n",
       "      <th>LCLid</th>\n",
       "      <th>day</th>\n",
       "      <th>energy_median</th>\n",
       "      <th>energy_mean</th>\n",
       "      <th>energy_max</th>\n",
       "      <th>energy_count</th>\n",
       "      <th>energy_std</th>\n",
       "      <th>energy_sum</th>\n",
       "      <th>energy_min</th>\n",
       "    </tr>\n",
       "  </thead>\n",
       "  <tbody>\n",
       "    <tr>\n",
       "      <th>505</th>\n",
       "      <td>MAC000246</td>\n",
       "      <td>2011-12-03</td>\n",
       "      <td>0.1150</td>\n",
       "      <td>0.300233</td>\n",
       "      <td>1.179</td>\n",
       "      <td>30</td>\n",
       "      <td>0.361231</td>\n",
       "      <td>9.007</td>\n",
       "      <td>0.047</td>\n",
       "    </tr>\n",
       "    <tr>\n",
       "      <th>506</th>\n",
       "      <td>MAC000246</td>\n",
       "      <td>2011-12-04</td>\n",
       "      <td>0.1750</td>\n",
       "      <td>0.432563</td>\n",
       "      <td>1.914</td>\n",
       "      <td>48</td>\n",
       "      <td>0.484152</td>\n",
       "      <td>20.763</td>\n",
       "      <td>0.026</td>\n",
       "    </tr>\n",
       "    <tr>\n",
       "      <th>507</th>\n",
       "      <td>MAC000246</td>\n",
       "      <td>2011-12-05</td>\n",
       "      <td>0.0780</td>\n",
       "      <td>0.125417</td>\n",
       "      <td>0.934</td>\n",
       "      <td>48</td>\n",
       "      <td>0.153327</td>\n",
       "      <td>6.020</td>\n",
       "      <td>0.025</td>\n",
       "    </tr>\n",
       "    <tr>\n",
       "      <th>508</th>\n",
       "      <td>MAC000246</td>\n",
       "      <td>2011-12-06</td>\n",
       "      <td>0.1140</td>\n",
       "      <td>0.277542</td>\n",
       "      <td>1.216</td>\n",
       "      <td>48</td>\n",
       "      <td>0.313399</td>\n",
       "      <td>13.322</td>\n",
       "      <td>0.027</td>\n",
       "    </tr>\n",
       "    <tr>\n",
       "      <th>509</th>\n",
       "      <td>MAC000246</td>\n",
       "      <td>2011-12-07</td>\n",
       "      <td>0.1035</td>\n",
       "      <td>0.188792</td>\n",
       "      <td>0.873</td>\n",
       "      <td>48</td>\n",
       "      <td>0.209613</td>\n",
       "      <td>9.062</td>\n",
       "      <td>0.026</td>\n",
       "    </tr>\n",
       "  </tbody>\n",
       "</table>\n",
       "</div>"
      ],
      "text/plain": [
       "         LCLid        day  energy_median  energy_mean  energy_max  \\\n",
       "505  MAC000246 2011-12-03         0.1150     0.300233       1.179   \n",
       "506  MAC000246 2011-12-04         0.1750     0.432563       1.914   \n",
       "507  MAC000246 2011-12-05         0.0780     0.125417       0.934   \n",
       "508  MAC000246 2011-12-06         0.1140     0.277542       1.216   \n",
       "509  MAC000246 2011-12-07         0.1035     0.188792       0.873   \n",
       "\n",
       "     energy_count  energy_std  energy_sum  energy_min  \n",
       "505            30    0.361231       9.007       0.047  \n",
       "506            48    0.484152      20.763       0.026  \n",
       "507            48    0.153327       6.020       0.025  \n",
       "508            48    0.313399      13.322       0.027  \n",
       "509            48    0.209613       9.062       0.026  "
      ]
     },
     "execution_count": 37,
     "metadata": {},
     "output_type": "execute_result"
    }
   ],
   "source": [
    "test_ids = ['MAC000246', 'MAC000002']\n",
    "\n",
    "agg_individual_usage = agg_usage_data[agg_usage_data['LCLid'] == 'MAC000246']\n",
    "\n",
    "# agg_individual_usage.compute().head()\n",
    "agg_individual_usage.head()\n",
    "\n"
   ]
  },
  {
   "cell_type": "code",
   "execution_count": 38,
   "metadata": {
    "scrolled": false
   },
   "outputs": [
    {
     "data": {
      "text/plain": [
       "<seaborn.axisgrid.FacetGrid at 0x7f4d29198c18>"
      ]
     },
     "execution_count": 38,
     "metadata": {},
     "output_type": "execute_result"
    },
    {
     "data": {
      "image/png": "[encoded data removed]",
      "text/plain": [
       "<matplotlib.figure.Figure at 0x7f4d29198fd0>"
      ]
     },
     "metadata": {},
     "output_type": "display_data"
    }
   ],
   "source": [
    "sns.relplot(x='day',\n",
    "            y='energy_sum',\n",
    "            #y='energy_median',\n",
    "            #y='energy_mean',\n",
    "            kind=\"line\",\n",
    "            data=agg_individual_usage)\n"
   ]
  },
  {
   "cell_type": "code",
   "execution_count": 39,
   "metadata": {},
   "outputs": [],
   "source": [
    "## Sample"
   ]
  },
  {
   "cell_type": "code",
   "execution_count": 58,
   "metadata": {},
   "outputs": [
    {
     "name": "stdout",
     "output_type": "stream",
     "text": [
      "20443\n",
      "5131\n"
     ]
    }
   ],
   "source": [
    "sample_frac = 0.80\n",
    "\n",
    "# Group and split\n",
    "grouped_usage = agg_usage_data.groupby('LCLid')\n",
    "\n",
    "train_test_set = []\n",
    "valid_set = []\n",
    "for lcl_id, df in grouped_usage:\n",
    "    cutoff_index = int(len(df) * sample_frac)  # I'm upset that I have to cast this shit\n",
    "\n",
    "    train_test = df[:cutoff_index]\n",
    "    train_test_set.append(train_test)\n",
    "\n",
    "    valid = df[cutoff_index:]\n",
    "    valid_set.append(valid)\n",
    "\n",
    "# Recombine\n",
    "#  TODO: This seems like it won't scale terribly well. Storing it might help?\n",
    "agg_usage_train_test = pandas.concat(train_test_set, axis=0, ignore_index=False)\n",
    "print(len(agg_usage_train_test))\n",
    "\n",
    "agg_usage_valid = pandas.concat(valid_set, axis=0, ignore_index=False)\n",
    "print(len(agg_usage_valid))"
   ]
  },
  {
   "cell_type": "code",
   "execution_count": null,
   "metadata": {},
   "outputs": [],
   "source": [
    "single_agg_usage = agg_usage_data[agg_usage_data['LCLid'] == 'MAC000246']"
   ]
  },
  {
   "cell_type": "code",
   "execution_count": 90,
   "metadata": {
    "scrolled": true
   },
   "outputs": [
    {
     "data": {
      "text/plain": [
       "<seaborn.axisgrid.FacetGrid at 0x7f4d0e8a5f28>"
      ]
     },
     "execution_count": 90,
     "metadata": {},
     "output_type": "execute_result"
    },
    {
     "data": {
      "image/png": "[encoded data removed]",
      "text/plain": [
       "<matplotlib.figure.Figure at 0x7f4d0e8a5cc0>"
      ]
     },
     "metadata": {},
     "output_type": "display_data"
    }
   ],
   "source": [
    "sns.relplot(x='day',\n",
    "            y='energy_sum',\n",
    "            #y='energy_median',\n",
    "            #y='energy_mean',\n",
    "            kind=\"line\",\n",
    "            data=single_agg_usage)\n"
   ]
  },
  {
   "cell_type": "code",
   "execution_count": 92,
   "metadata": {
    "scrolled": true
   },
   "outputs": [
    {
     "data": {
      "text/plain": [
       "<seaborn.axisgrid.FacetGrid at 0x7f4d0e78c518>"
      ]
     },
     "execution_count": 92,
     "metadata": {},
     "output_type": "execute_result"
    },
    {
     "data": {
      "image/png": "[encoded data removed]",
      "text/plain": [
       "<matplotlib.figure.Figure at 0x7f4d0e8ad6d8>"
      ]
     },
     "metadata": {},
     "output_type": "display_data"
    }
   ],
   "source": [
    "single_agg_melt = pandas.melt(single_agg_usage, id_vars=['LCLid', 'day'], value_vars=['energy_median', 'energy_mean'])\n",
    "\n",
    "sns.relplot(x='day',\n",
    "            y='value',\n",
    "            hue='variable',\n",
    "            kind=\"line\",\n",
    "            data=single_agg_melt)\n"
   ]
  },
  {
   "cell_type": "markdown",
   "metadata": {},
   "source": [
    "^ positive outliers?"
   ]
  },
  {
   "cell_type": "code",
   "execution_count": null,
   "metadata": {},
   "outputs": [],
   "source": [
    "# Analysis"
   ]
  },
  {
   "cell_type": "code",
   "execution_count": null,
   "metadata": {},
   "outputs": [],
   "source": [
    "### Some TS specific packages"
   ]
  },
  {
   "cell_type": "code",
   "execution_count": 104,
   "metadata": {},
   "outputs": [],
   "source": [
    "from statsmodels.tsa.seasonal import seasonal_decompose\n",
    "from statsmodels.tsa.stattools import adfuller\n",
    "from statsmodels.graphics.tsaplots import plot_acf, plot_pacf"
   ]
  },
  {
   "cell_type": "markdown",
   "metadata": {},
   "source": [
    "### Hist"
   ]
  },
  {
   "cell_type": "code",
   "execution_count": 95,
   "metadata": {
    "scrolled": false
   },
   "outputs": [
    {
     "data": {
      "text/plain": [
       "array([[<matplotlib.axes._subplots.AxesSubplot object at 0x7f4d0d37e5c0>,\n",
       "        <matplotlib.axes._subplots.AxesSubplot object at 0x7f4d0d288b38>,\n",
       "        <matplotlib.axes._subplots.AxesSubplot object at 0x7f4d0d23fba8>],\n",
       "       [<matplotlib.axes._subplots.AxesSubplot object at 0x7f4d0d279c88>,\n",
       "        <matplotlib.axes._subplots.AxesSubplot object at 0x7f4d0d234ba8>,\n",
       "        <matplotlib.axes._subplots.AxesSubplot object at 0x7f4d0d234be0>],\n",
       "       [<matplotlib.axes._subplots.AxesSubplot object at 0x7f4d0d1a1978>,\n",
       "        <matplotlib.axes._subplots.AxesSubplot object at 0x7f4d0d15a978>,\n",
       "        <matplotlib.axes._subplots.AxesSubplot object at 0x7f4d0d1139e8>]],\n",
       "      dtype=object)"
      ]
     },
     "execution_count": 95,
     "metadata": {},
     "output_type": "execute_result"
    },
    {
     "data": {
      "image/png": "[encoded data removed]",
      "text/plain": [
       "<matplotlib.figure.Figure at 0x7f4d0da72cc0>"
      ]
     },
     "metadata": {},
     "output_type": "display_data"
    }
   ],
   "source": [
    "single_agg_usage.hist(bins=50, figsize=(20,15))"
   ]
  },
  {
   "cell_type": "markdown",
   "metadata": {},
   "source": [
    "^ Again, kinda a right skew"
   ]
  },
  {
   "cell_type": "markdown",
   "metadata": {},
   "source": [
    "### Stationality"
   ]
  },
  {
   "cell_type": "code",
   "execution_count": 102,
   "metadata": {
    "scrolled": true
   },
   "outputs": [
    {
     "name": "stdout",
     "output_type": "stream",
     "text": [
      "ADF Statistic: -1.8742275341603007\n",
      "p-value: 0.34428070672283545\n",
      "Critical Values:\n",
      "  1%: -3.438581476199162\n",
      "  5%: -2.865173218890781\n",
      "  10%: -2.56870466056054\n"
     ]
    }
   ],
   "source": [
    "from statsmodels.tsa.stattools import adfuller\n",
    "\n",
    "result = adfuller(single_agg_usage['energy_sum'].values)\n",
    "print(f'ADF Statistic: {result[0]}')\n",
    "print(f'p-value: {result[1]}')\n",
    "\n",
    "print('Critical Values:')\n",
    "for key, value in result[4].items():\n",
    "    print(f'  {key}: {value}')\n",
    "#     print('\\t%s: %.3f' % (key, value))"
   ]
  },
  {
   "cell_type": "markdown",
   "metadata": {},
   "source": [
    "H(0): Has unit root, is non stationary\n",
    "H(1): No unit root, is stationary\n",
    "\n",
    "Accept: Series is not stationary.\n",
    "    Look for a trend?\n",
    "    "
   ]
  },
  {
   "cell_type": "markdown",
   "metadata": {},
   "source": [
    "### Autocorrelation\n",
    "https://machinelearningmastery.com/gentle-introduction-autocorrelation-partial-autocorrelation/"
   ]
  },
  {
   "cell_type": "code",
   "execution_count": 117,
   "metadata": {},
   "outputs": [
    {
     "data": {
      "image/png": "[encoded data removed]",
      "text/plain": [
       "<matplotlib.figure.Figure at 0x7f4d0b77e668>"
      ]
     },
     "metadata": {},
     "output_type": "display_data"
    }
   ],
   "source": [
    "plot_acf(single_agg_usage['energy_sum'], lags=100)\n",
    "pyplot.show()  # This keeps things from showing up twice?"
   ]
  },
  {
   "cell_type": "code",
   "execution_count": 116,
   "metadata": {
    "scrolled": true
   },
   "outputs": [
    {
     "data": {
      "image/png": "[encoded data removed]",
      "text/plain": [
       "<matplotlib.figure.Figure at 0x7f4d2cf144a8>"
      ]
     },
     "metadata": {},
     "output_type": "display_data"
    }
   ],
   "source": [
    "plot_pacf(single_agg_usage['energy_sum'], lags=100)\n",
    "pyplot.show()  # This keeps things from showing up twice?"
   ]
  },
  {
   "cell_type": "markdown",
   "metadata": {},
   "source": [
    "If I remember, these guys are NOT going down quickly enough to show that there ISN'T Autocorrelation"
   ]
  },
  {
   "cell_type": "markdown",
   "metadata": {},
   "source": [
    "# Lets Decompose already!"
   ]
  },
  {
   "cell_type": "code",
   "execution_count": 93,
   "metadata": {},
   "outputs": [
    {
     "name": "stderr",
     "output_type": "stream",
     "text": [
      "/home/nathaniel/anaconda3/lib/python3.6/site-packages/statsmodels/compat/pandas.py:56: FutureWarning: The pandas.core.datetools module is deprecated and will be removed in a future version. Please use the pandas.tseries module instead.\n",
      "  from pandas.core import datetools\n"
     ]
    }
   ],
   "source": []
  },
  {
   "cell_type": "code",
   "execution_count": 106,
   "metadata": {},
   "outputs": [
    {
     "ename": "AttributeError",
     "evalue": "'Int64Index' object has no attribute 'inferred_freq'",
     "output_type": "error",
     "traceback": [
      "\u001b[0;31m---------------------------------------------------------------------------\u001b[0m",
      "\u001b[0;31mAttributeError\u001b[0m                            Traceback (most recent call last)",
      "\u001b[0;32m<ipython-input-106-77aeb8bff603>\u001b[0m in \u001b[0;36m<module>\u001b[0;34m()\u001b[0m\n\u001b[0;32m----> 1\u001b[0;31m \u001b[0msingle_agg_decomp\u001b[0m \u001b[0;34m=\u001b[0m \u001b[0mseasonal_decompose\u001b[0m\u001b[0;34m(\u001b[0m\u001b[0msingle_agg_usage\u001b[0m\u001b[0;34m[\u001b[0m\u001b[0;34m'energy_sum'\u001b[0m\u001b[0;34m]\u001b[0m\u001b[0;34m,\u001b[0m \u001b[0mmodel\u001b[0m\u001b[0;34m=\u001b[0m\u001b[0;34m'additive'\u001b[0m\u001b[0;34m,\u001b[0m \u001b[0mtwo_sided\u001b[0m\u001b[0;34m=\u001b[0m\u001b[0;32mTrue\u001b[0m\u001b[0;34m,\u001b[0m \u001b[0mfreq\u001b[0m\u001b[0;34m=\u001b[0m\u001b[0;36m144\u001b[0m\u001b[0;34m)\u001b[0m\u001b[0;34m\u001b[0m\u001b[0m\n\u001b[0m\u001b[1;32m      2\u001b[0m \u001b[0msingle_agg_decomp\u001b[0m\u001b[0;34m.\u001b[0m\u001b[0mplot\u001b[0m\u001b[0;34m(\u001b[0m\u001b[0;34m)\u001b[0m\u001b[0;34m.\u001b[0m\u001b[0mshow\u001b[0m\u001b[0;34m(\u001b[0m\u001b[0;34m)\u001b[0m\u001b[0;34m\u001b[0m\u001b[0m\n",
      "\u001b[0;32m~/anaconda3/lib/python3.6/site-packages/statsmodels/tsa/seasonal.py\u001b[0m in \u001b[0;36mseasonal_decompose\u001b[0;34m(x, model, filt, freq, two_sided)\u001b[0m\n\u001b[1;32m     66\u001b[0m     \u001b[0mstatsmodels\u001b[0m\u001b[0;34m.\u001b[0m\u001b[0mtsa\u001b[0m\u001b[0;34m.\u001b[0m\u001b[0mfilters\u001b[0m\u001b[0;34m.\u001b[0m\u001b[0mconvolution_filter\u001b[0m\u001b[0;34m\u001b[0m\u001b[0m\n\u001b[1;32m     67\u001b[0m     \"\"\"\n\u001b[0;32m---> 68\u001b[0;31m     \u001b[0m_pandas_wrapper\u001b[0m\u001b[0;34m,\u001b[0m \u001b[0mpfreq\u001b[0m \u001b[0;34m=\u001b[0m \u001b[0m_maybe_get_pandas_wrapper_freq\u001b[0m\u001b[0;34m(\u001b[0m\u001b[0mx\u001b[0m\u001b[0;34m)\u001b[0m\u001b[0;34m\u001b[0m\u001b[0m\n\u001b[0m\u001b[1;32m     69\u001b[0m     \u001b[0mx\u001b[0m \u001b[0;34m=\u001b[0m \u001b[0mnp\u001b[0m\u001b[0;34m.\u001b[0m\u001b[0masanyarray\u001b[0m\u001b[0;34m(\u001b[0m\u001b[0mx\u001b[0m\u001b[0;34m)\u001b[0m\u001b[0;34m.\u001b[0m\u001b[0msqueeze\u001b[0m\u001b[0;34m(\u001b[0m\u001b[0;34m)\u001b[0m\u001b[0;34m\u001b[0m\u001b[0m\n\u001b[1;32m     70\u001b[0m     \u001b[0mnobs\u001b[0m \u001b[0;34m=\u001b[0m \u001b[0mlen\u001b[0m\u001b[0;34m(\u001b[0m\u001b[0mx\u001b[0m\u001b[0;34m)\u001b[0m\u001b[0;34m\u001b[0m\u001b[0m\n",
      "\u001b[0;32m~/anaconda3/lib/python3.6/site-packages/statsmodels/tsa/filters/_utils.py\u001b[0m in \u001b[0;36m_maybe_get_pandas_wrapper_freq\u001b[0;34m(X, trim)\u001b[0m\n\u001b[1;32m     44\u001b[0m         \u001b[0mindex\u001b[0m \u001b[0;34m=\u001b[0m \u001b[0mX\u001b[0m\u001b[0;34m.\u001b[0m\u001b[0mindex\u001b[0m\u001b[0;34m\u001b[0m\u001b[0m\n\u001b[1;32m     45\u001b[0m         \u001b[0mfunc\u001b[0m \u001b[0;34m=\u001b[0m \u001b[0m_get_pandas_wrapper\u001b[0m\u001b[0;34m(\u001b[0m\u001b[0mX\u001b[0m\u001b[0;34m,\u001b[0m \u001b[0mtrim\u001b[0m\u001b[0;34m)\u001b[0m\u001b[0;34m\u001b[0m\u001b[0m\n\u001b[0;32m---> 46\u001b[0;31m         \u001b[0mfreq\u001b[0m \u001b[0;34m=\u001b[0m \u001b[0mindex\u001b[0m\u001b[0;34m.\u001b[0m\u001b[0minferred_freq\u001b[0m\u001b[0;34m\u001b[0m\u001b[0m\n\u001b[0m\u001b[1;32m     47\u001b[0m         \u001b[0;32mreturn\u001b[0m \u001b[0mfunc\u001b[0m\u001b[0;34m,\u001b[0m \u001b[0mfreq\u001b[0m\u001b[0;34m\u001b[0m\u001b[0m\n\u001b[1;32m     48\u001b[0m     \u001b[0;32melse\u001b[0m\u001b[0;34m:\u001b[0m\u001b[0;34m\u001b[0m\u001b[0m\n",
      "\u001b[0;31mAttributeError\u001b[0m: 'Int64Index' object has no attribute 'inferred_freq'"
     ]
    }
   ],
   "source": [
    "single_agg_decomp = seasonal_decompose(single_agg_usage['energy_sum'], model='additive', two_sided=True, freq=144)\n",
    "single_agg_decomp.plot().show()"
   ]
  },
  {
   "cell_type": "code",
   "execution_count": null,
   "metadata": {},
   "outputs": [],
   "source": []
  },
  {
   "cell_type": "code",
   "execution_count": null,
   "metadata": {},
   "outputs": [],
   "source": []
  },
  {
   "cell_type": "code",
   "execution_count": null,
   "metadata": {},
   "outputs": [],
   "source": []
  },
  {
   "cell_type": "code",
   "execution_count": null,
   "metadata": {},
   "outputs": [],
   "source": []
  },
  {
   "cell_type": "code",
   "execution_count": null,
   "metadata": {},
   "outputs": [],
   "source": []
  },
  {
   "cell_type": "code",
   "execution_count": null,
   "metadata": {},
   "outputs": [],
   "source": []
  },
  {
   "cell_type": "code",
   "execution_count": null,
   "metadata": {},
   "outputs": [],
   "source": []
  },
  {
   "cell_type": "code",
   "execution_count": null,
   "metadata": {},
   "outputs": [],
   "source": []
  },
  {
   "cell_type": "code",
   "execution_count": null,
   "metadata": {
    "scrolled": true
   },
   "outputs": [],
   "source": [
    "dots = sns.load_dataset(\"dots\")\n",
    "dots.head()"
   ]
  },
  {
   "cell_type": "code",
   "execution_count": null,
   "metadata": {},
   "outputs": [],
   "source": []
  },
  {
   "cell_type": "code",
   "execution_count": null,
   "metadata": {},
   "outputs": [],
   "source": []
  },
  {
   "cell_type": "code",
   "execution_count": null,
   "metadata": {},
   "outputs": [],
   "source": []
  },
  {
   "cell_type": "code",
   "execution_count": null,
   "metadata": {},
   "outputs": [],
   "source": []
  },
  {
   "cell_type": "code",
   "execution_count": null,
   "metadata": {},
   "outputs": [],
   "source": []
  },
  {
   "cell_type": "code",
   "execution_count": null,
   "metadata": {},
   "outputs": [],
   "source": []
  },
  {
   "cell_type": "code",
   "execution_count": null,
   "metadata": {},
   "outputs": [],
   "source": []
  },
  {
   "cell_type": "code",
   "execution_count": null,
   "metadata": {},
   "outputs": [],
   "source": []
  },
  {
   "cell_type": "code",
   "execution_count": null,
   "metadata": {},
   "outputs": [],
   "source": []
  },
  {
   "cell_type": "code",
   "execution_count": null,
   "metadata": {},
   "outputs": [],
   "source": []
  },
  {
   "cell_type": "code",
   "execution_count": null,
   "metadata": {},
   "outputs": [],
   "source": []
  },
  {
   "cell_type": "code",
   "execution_count": null,
   "metadata": {},
   "outputs": [],
   "source": []
  },
  {
   "cell_type": "code",
   "execution_count": null,
   "metadata": {},
   "outputs": [],
   "source": [
    "import pandas"
   ]
  },
  {
   "cell_type": "code",
   "execution_count": null,
   "metadata": {},
   "outputs": [],
   "source": [
    "hhour_fname = 'block_1.csv'\n",
    "hhour_fpath = f\"{hhour_dir}/{hhour_fname}\"\n",
    "\n",
    "df = pandas.read_csv(hhour_fpath)\n",
    "df.describe()"
   ]
  },
  {
   "cell_type": "code",
   "execution_count": null,
   "metadata": {},
   "outputs": [],
   "source": [
    "df['energy(kWh/hh)'].mean()"
   ]
  },
  {
   "cell_type": "code",
   "execution_count": null,
   "metadata": {},
   "outputs": [],
   "source": []
  }
 ],
 "metadata": {
  "kernelspec": {
   "display_name": "Python 3",
   "language": "python",
   "name": "python3"
  },
  "language_info": {
   "codemirror_mode": {
    "name": "ipython",
    "version": 3
   },
   "file_extension": ".py",
   "mimetype": "text/x-python",
   "name": "python",
   "nbconvert_exporter": "python",
   "pygments_lexer": "ipython3",
   "version": "3.6.4"
  }
 },
 "nbformat": 4,
 "nbformat_minor": 2
}
